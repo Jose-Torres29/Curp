{
 "cells": [
  {
   "cell_type": "code",
   "execution_count": 1,
   "metadata": {},
   "outputs": [
    {
     "name": "stdout",
     "output_type": "stream",
     "text": [
      "jaq cor 18\n",
      "CJ18 🦄\n"
     ]
    }
   ],
   "source": [
    "n = input(\"dame tu nombre\")\n",
    "a = input(\"ingresa tu apellido\")\n",
    "e = input(\"ingresa tu edad\")\n",
    "print (n,a,e)\n",
    "i_n = n[0].upper()\n",
    "i_a = a[0].upper()\n",
    "print (i_a + i_n + e, \"🦄\")"
   ]
  }
 ],
 "metadata": {
  "kernelspec": {
   "display_name": "Python 3",
   "language": "python",
   "name": "python3"
  },
  "language_info": {
   "codemirror_mode": {
    "name": "ipython",
    "version": 3
   },
   "file_extension": ".py",
   "mimetype": "text/x-python",
   "name": "python",
   "nbconvert_exporter": "python",
   "pygments_lexer": "ipython3",
   "version": "3.12.2"
  }
 },
 "nbformat": 4,
 "nbformat_minor": 2
}
