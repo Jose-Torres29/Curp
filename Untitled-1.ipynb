{
 "cells": [
  {
   "cell_type": "code",
   "execution_count": null,
   "metadata": {},
   "outputs": [],
   "source": [
    "n=input(\"ingresa tu nombre\")\n",
    "a=input(\"ingresa tu apellido\")\n",
    "e=input(\"ingresa tu edad\")\n",
    "print(n,e,a)\n",
    "i_n=n[0].upper()\n",
    "a_n=a[0].upper()\n",
    "print(i_n+e+a_n,\"❤\")\n",
    "\n"
   ]
  }
 ],
 "metadata": {
  "kernelspec": {
   "display_name": "Python 3",
   "language": "python",
   "name": "python3"
  },
  "language_info": {
   "name": "python",
   "version": "3.11.3"
  }
 },
 "nbformat": 4,
 "nbformat_minor": 2
}
