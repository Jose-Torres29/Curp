{
 "cells": [
  {
   "cell_type": "code",
   "execution_count": 4,
   "metadata": {},
   "outputs": [
    {
     "name": "stdout",
     "output_type": "stream",
     "text": [
      "Jose Torres 19\n",
      "TJ19 🥵🥵\n"
     ]
    }
   ],
   "source": [
    "n = input(\"Ingresa tu Nombre\")\n",
    "a = input(\"Ingresa tu Apellido\")\n",
    "e = input(\"Ingresa tu edad\")\n",
    "print(n,a,e)\n",
    "i_n = n[0].upper()\n",
    "i_a = a[0].upper()\n",
    "print(i_a + i_n + e, \"🥵🥵\")"
   ]
  }
 ],
 "metadata": {
  "kernelspec": {
   "display_name": "Python 3",
   "language": "python",
   "name": "python3"
  },
  "language_info": {
   "codemirror_mode": {
    "name": "ipython",
    "version": 3
   },
   "file_extension": ".py",
   "mimetype": "text/x-python",
   "name": "python",
   "nbconvert_exporter": "python",
   "pygments_lexer": "ipython3",
   "version": "3.11.3"
  }
 },
 "nbformat": 4,
 "nbformat_minor": 2
}
